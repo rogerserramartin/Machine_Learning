{
  "nbformat": 4,
  "nbformat_minor": 0,
  "metadata": {
    "colab": {
      "name": "TutorialPandas.ipynb",
      "provenance": [],
      "collapsed_sections": [],
      "authorship_tag": "ABX9TyNc4w+OkKoyIBMU4ZLZ63vU",
      "include_colab_link": true
    },
    "kernelspec": {
      "name": "python3",
      "display_name": "Python 3"
    },
    "language_info": {
      "name": "python"
    }
  },
  "cells": [
    {
      "cell_type": "markdown",
      "metadata": {
        "id": "view-in-github",
        "colab_type": "text"
      },
      "source": [
        "<a href=\"https://colab.research.google.com/github/rogerserramartin/Machine_Learning/blob/main/TutorialPandas.ipynb\" target=\"_parent\"><img src=\"https://colab.research.google.com/assets/colab-badge.svg\" alt=\"Open In Colab\"/></a>"
      ]
    },
    {
      "cell_type": "markdown",
      "source": [
        "# Introduccion\n",
        "Lo mas importante en pandas son las series y los dataframes.\n",
        "<p>Una serie es una columna.</p>\n",
        "<p>Un dataframe es una tabla. Cada fila se llama row o record.</p>\n",
        "Similar a los diccionarios, el nombre de la columna es una key, y el valor de la casilla un value.\n",
        "<p>ej: diccionario = {\"nombre\": \"pepe\", \"apellido\": \"sanchez\"}</p>\n"
      ],
      "metadata": {
        "id": "KoRmaHgxMp2k"
      }
    },
    {
      "cell_type": "markdown",
      "source": [
        "# Importar librerias\n",
        "Siempre se importa en las primeras lineas del fichero .py"
      ],
      "metadata": {
        "id": "VDcS7mAyGen6"
      }
    },
    {
      "cell_type": "code",
      "execution_count": null,
      "metadata": {
        "id": "s3RfGEAWE7Fz"
      },
      "outputs": [],
      "source": [
        "import pandas as pd"
      ]
    },
    {
      "cell_type": "markdown",
      "source": [
        "# Cargar un dataframe\n",
        "Se puede crear a mano, o bien importandolo de ficheros csv, json, xml, de una base de datos, etc.\n",
        "<P>https://pandas.pydata.org/docs/reference/frame.html<P>"
      ],
      "metadata": {
        "id": "-rT1oh0uHUwM"
      }
    },
    {
      "cell_type": "code",
      "source": [
        "FILEPATH = 'directorio/archivo.extension'\n",
        "mi_dataframe = pd.read_csv(FILEPATH)\n",
        "mi_dataframe = pd.read_csv(FILEPATH)\n",
        "mi_Dataframe = pd.read_json(FILEPATH)"
      ],
      "metadata": {
        "id": "C10RtOR9Hjcz"
      },
      "execution_count": null,
      "outputs": []
    },
    {
      "cell_type": "markdown",
      "source": [
        "<p>https://pandas.pydata.org/docs/reference/api/pandas.read_sql.html</p>\n",
        "<p>https://pandas.pydata.org/docs/reference/api/pandas.read_sql_query.html  --> Read SQL query into a DataFrame.  --> pillamos el resultado de una query en SQL.</p>\n",
        "<p>https://pandas.pydata.org/docs/reference/api/pandas.read_sql_table.html  --> Read SQL database table into a DataFrame. --> pillamos una tabla entera.</p>"
      ],
      "metadata": {
        "id": "OuMXy_BFOZa5"
      }
    },
    {
      "cell_type": "code",
      "source": [
        "# ejemplo de cargar una query a un dataframe\n",
        "import pymysql\n",
        "import pandas as pd\n",
        "\n",
        "dbcon = pymysql.connect(\"localhost\", \"root\", \"root\", \"laravel7crud\")\n",
        "\n",
        "try:\n",
        "    SQL_Query = pd.read_sql_query(\n",
        "        '''select\n",
        "          symptoms,\n",
        "          country_name,\n",
        "          cases\n",
        "          from coronas''', dbcon)\n",
        "\n",
        "    df = pd.DataFrame(SQL_Query, columns=['symptoms', 'country_name', 'cases'])\n",
        "    print(df)\n",
        "    print('The data type of df is: ', type(df))\n",
        "except:\n",
        "    print(\"Error: unable to convert the data\")\n"
      ],
      "metadata": {
        "id": "-DvWYDbxIOmb"
      },
      "execution_count": null,
      "outputs": []
    },
    {
      "cell_type": "markdown",
      "source": [
        "#Consejos\n",
        "<p>En python, para acceder a un atributo de un objeto hacemos: objeto.atributo</p>\n",
        "<p>Con dataframes es similar, podemos hacer dataframe.nombredelacolumna o bien dataframe['nombredelacolumna'] </p>\n",
        "<p>En los diccionarios de python tambien se utiliza [] para acceder a los valores.</p>\n",
        "<p>En los dataframes, podemos acceder a filas con indices, asi: reviews['country'][0], accedemos al primer elemento. PERO ES MALA PRAXIS, con pandas se utiliza loc e iloc. </p>"
      ],
      "metadata": {
        "id": "cDMbnRpP2J9j"
      }
    },
    {
      "cell_type": "code",
      "source": [
        "thisdict =\t{\n",
        "  \"brand\": \"Ford\",\n",
        "  \"model\": \"Mustang\",\n",
        "  \"year\": 1964\n",
        "}\n",
        "print(thisdict[\"brand\"])"
      ],
      "metadata": {
        "colab": {
          "base_uri": "https://localhost:8080/"
        },
        "id": "Y-8-GKam2JNJ",
        "outputId": "97b6765d-d76c-4d61-b201-cc42ed5cc74d"
      },
      "execution_count": 4,
      "outputs": [
        {
          "output_type": "stream",
          "name": "stdout",
          "text": [
            "Ford\n"
          ]
        }
      ]
    },
    {
      "cell_type": "markdown",
      "source": [
        "# Indices\n",
        "<p>Los indices en pandas siguen 2 paradigmas:</p>\n",
        "<ol>\n",
        "  <li>Index-based selection (iloc)</li>\n",
        "  <li>Label-based selection (loc)</li>\n",
        "</ol> \n",
        "\n",
        "### ILOC\n",
        "<p>Los datos se seleccionan segun su posicion numerica.</p>\n",
        "<p>Primero va la fila y despues la columna iloc[fila, columna].</p>\n",
        "<p>reviews.iloc[0] -> selecciona la primera fila del dataframe.</p>\n",
        "<p>reviews.iloc[:, 0] -> selecciona la primera columna del dataframe ((:) es para todo), revisar la documentacion de python. Ej: los 3 primeros [:3], 0,1,2</p>\n",
        "<p>reviews.iloc[:3, 0] --> obtiene las 3 primeras celdas de la primera columna</p>\n",
        "<p>Si no queremos pasar indexacion valor:valor podemos pasar una lista [0,2,3,5,7] etc</p>\n",
        "\n",
        "### LOC\n",
        "<p>Los datos se seleccionan segun su valor, no su posicion</p>\n",
        "<p>reviews.loc[0, 'country'] -> primera casilla de la columna pais</p>\n",
        "<p>Como podemos ver, lo que cambia es que en [fila, columna] la columna no es un numero, sino un tag.</p>\n",
        "\n",
        "### Diferencia principal\n",
        "<p>Lo que los diferencia es su esquema de indices, en el caso de iloc[0:3] pilla el 0, 1 y 2, pero loc[0:3] pilla los 4: 0,1,2,3. Loc se puede salir del tope + 1 asi que cuidado.</p>"
      ],
      "metadata": {
        "id": "6UQxsxJy49J2"
      }
    },
    {
      "cell_type": "markdown",
      "source": [
        "# Condicionales\n",
        "<p>Nos permiten obtener valores segun condiciones</p>\n",
        "<p>reviews.loc[reviews.country == 'Italy'] -> obtiene todas las filas cuyo pais es Italia, columna Italia</p>\n",
        "<p>Podemos meter mas columnas reviews.loc[(reviews.country == 'Italy') & (reviews.points >= 90)]</p>\n",
        "<p>Icluso que los valores esten dentro de un rango o coincidan con strings ->\n",
        "reviews.loc[reviews.country.isin(['Italy', 'France'])]</p>\n",
        "<p>reviews['country'].isin([]) queda mejor!</p>"
      ],
      "metadata": {
        "id": "kfMZNdIA86Dz"
      }
    },
    {
      "cell_type": "markdown",
      "source": [
        "# Asignar valores\n",
        "<p>Esto es lo que he hecho en la migracion de la empresa, lo de dataframe['columna'] = 'valor'.</p>\n",
        "<p>Asignar valores es mucho mas facil, especialmente si son constantes.</p>\n",
        "<p>Podemos asignar los valores de forma variable, como pasandole una funcion, alguna lambda o incluso un bucle, o tambien concatenando varias columnas como he venido haciendo anteriormmente.</p>"
      ],
      "metadata": {
        "id": "b3N6Bebp_uYH"
      }
    },
    {
      "cell_type": "markdown",
      "source": [
        "# Insertar un dataframe en una base de datos\n",
        "Tenemos que utilizar sqlalchemy, una libreria de python similar al Hibernate de java.\n",
        "<p>https://pandas.pydata.org/docs/reference/api/pandas.DataFrame.to_sql.html</p>\n",
        "<p>https://www.sqlalchemy.org/</p>\n",
        "<p>https://docs.sqlalchemy.org/en/14/orm/session_transaction.html</p>"
      ],
      "metadata": {
        "id": "ktIL7Y_uL6Vv"
      }
    }
  ]
}
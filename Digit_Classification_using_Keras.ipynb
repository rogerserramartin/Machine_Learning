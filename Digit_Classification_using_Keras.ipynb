{
  "nbformat": 4,
  "nbformat_minor": 0,
  "metadata": {
    "colab": {
      "name": "Digit_Classification_using_Keras.ipynb",
      "provenance": [],
      "collapsed_sections": [],
      "authorship_tag": "ABX9TyPS2TJSa+WfOPoDLsg1ZiZt",
      "include_colab_link": true
    },
    "kernelspec": {
      "name": "python3",
      "display_name": "Python 3"
    }
  },
  "cells": [
    {
      "cell_type": "markdown",
      "metadata": {
        "id": "view-in-github",
        "colab_type": "text"
      },
      "source": [
        "<a href=\"https://colab.research.google.com/github/rogersm92/Machine_Learning/blob/main/Digit_Classification_using_Keras.ipynb\" target=\"_parent\"><img src=\"https://colab.research.google.com/assets/colab-badge.svg\" alt=\"Open In Colab\"/></a>"
      ]
    },
    {
      "cell_type": "markdown",
      "metadata": {
        "id": "wZI7ycO8elfV"
      },
      "source": [
        "# Introduction\r\n",
        "Keras is an Open Source (MIT License / GNU) library written in Python that provides us powerful tools for Neural Networks.\r\n",
        "<br></br>\r\n",
        "In this tutorial I'll show how to build a **feedforward neural network** and train it to identify handwritten digits.\r\n",
        "<br></br>\r\n",
        "A **feedforward neural network** is an artificial neural network wherein **connections between the nodes do not form a cycle**. \r\n",
        "\r\n"
      ]
    },
    {
      "cell_type": "markdown",
      "metadata": {
        "id": "ykGhgOfytxq5"
      },
      "source": [
        "![](https://drive.google.com/uc?export=view&id=1mLfMcAQrJ62ONPhLqh6394T5eVW9FKXG)\r\n",
        "\r\n",
        "Given an image of a handrwitten digit, our neural network will identify it.\r\n",
        "Each image in the MNIST dataset is **28x28px** and contains a centered, grayscale digit."
      ]
    },
    {
      "cell_type": "code",
      "metadata": {
        "colab": {
          "base_uri": "https://localhost:8080/"
        },
        "id": "3UoNsKzauqzq",
        "outputId": "be76b1fe-7707-4dcd-812b-60a78b5715d7"
      },
      "source": [
        "import numpy as np\r\n",
        "import tensorflow as tf\r\n",
        "from tensorflow.keras import layers\r\n",
        "\r\n",
        "mnist = tf.keras.datasets.mnist # The MNIST database is a large database of handwritten digits that is commonly used for training various image processing systems\r\n",
        "print(tf.__version__)"
      ],
      "execution_count": 30,
      "outputs": [
        {
          "output_type": "stream",
          "text": [
            "2.4.1\n"
          ],
          "name": "stdout"
        }
      ]
    },
    {
      "cell_type": "code",
      "metadata": {
        "id": "dzkVt_0RwD33"
      },
      "source": [
        "# Model / data parameters\r\n",
        "num_classes = 10\r\n",
        "input_shape = (28, 28, 1)\r\n",
        "# the data, split between train and test sets\r\n",
        "(x_train, y_train), (x_test, y_test) = keras.datasets.mnist.load_data() \r\n",
        "# A feature is one column of the data in your input set, also known as X. -> x_train = train_images, x_test = test_images\r\n",
        "# A label is the thing we're predicting, also known as Y. --> y_train = train_labels, y_test = test_labels"
      ],
      "execution_count": 26,
      "outputs": []
    },
    {
      "cell_type": "code",
      "metadata": {
        "colab": {
          "base_uri": "https://localhost:8080/"
        },
        "id": "lo1vlGJW0UZO",
        "outputId": "511bb82d-6614-4696-eab6-7731e7fb5bca"
      },
      "source": [
        "# Shape testing\r\n",
        "# The shape of an array is the number of elements in each dimension.\r\n",
        "myvector = np.array([1,2,3])\r\n",
        "print(myvector.shape)\r\n",
        "mymatrix = np.array([[1,2,3], \r\n",
        "                     [4,5,6]])\r\n",
        "print(mymatrix.shape)\r\n",
        "mytensor = np.array([[[1,2,3], \r\n",
        "                      [4,5,6], \r\n",
        "                      [7,8,9]],\r\n",
        "                     \r\n",
        "                     [[10,11,12], \r\n",
        "                      [13,14,15], \r\n",
        "                      [16,17,18]],\r\n",
        "                     ])\r\n",
        "print(mytensor.shape)"
      ],
      "execution_count": 22,
      "outputs": [
        {
          "output_type": "stream",
          "text": [
            "(3,)\n",
            "(2, 3)\n",
            "(2, 3, 3)\n"
          ],
          "name": "stdout"
        }
      ]
    },
    {
      "cell_type": "code",
      "metadata": {
        "colab": {
          "base_uri": "https://localhost:8080/"
        },
        "id": "LwUytfQ1xzBt",
        "outputId": "4b295e96-b4d6-422f-9ee8-360f14226623"
      },
      "source": [
        "# Scale images to the [0, 1] range\r\n",
        "x_train = x_train.astype(\"float32\") / 255\r\n",
        "x_test = x_test.astype(\"float32\") / 255\r\n",
        "# Make sure images have shape (28, 28, 1) --> 28px x 28px\r\n",
        "# NumPy arrays have an attribute called shape that returns a tuple with each index having the number of corresponding elements.\r\n",
        "x_train = np.expand_dims(x_train, -1)\r\n",
        "x_test = np.expand_dims(x_test, -1)\r\n",
        "print(\"x_train shape:\", x_train.shape)\r\n",
        "print(x_train.shape[0], \"train samples\")\r\n",
        "print(x_test.shape[0], \"test samples\")"
      ],
      "execution_count": 27,
      "outputs": [
        {
          "output_type": "stream",
          "text": [
            "x_train shape: (60000, 28, 28, 1)\n",
            "60000 train samples\n",
            "10000 test samples\n"
          ],
          "name": "stdout"
        }
      ]
    },
    {
      "cell_type": "code",
      "metadata": {
        "id": "vpjq7kfByIoq"
      },
      "source": [
        "# convert class vectors to binary class matrices\r\n",
        "y_train = keras.utils.to_categorical(y_train, num_classes)\r\n",
        "y_test = keras.utils.to_categorical(y_test, num_classes)"
      ],
      "execution_count": 28,
      "outputs": []
    },
    {
      "cell_type": "code",
      "metadata": {
        "colab": {
          "base_uri": "https://localhost:8080/"
        },
        "id": "e_MlM0R700zk",
        "outputId": "4c8bb2f2-9fa6-464e-89c3-779823435e2d"
      },
      "source": [
        "# Building the model\r\n",
        "model = keras.Sequential(\r\n",
        "    # A sequential model is a linear stack of layers.\r\n",
        "    # Each layer has exactly one input tensor and one output tensor. \r\n",
        "    [\r\n",
        "        keras.Input(shape=input_shape),\r\n",
        "        layers.Conv2D(32, kernel_size=(3, 3), activation=\"relu\"),\r\n",
        "        layers.MaxPooling2D(pool_size=(2, 2)),\r\n",
        "        layers.Conv2D(64, kernel_size=(3, 3), activation=\"relu\"),\r\n",
        "        layers.MaxPooling2D(pool_size=(2, 2)),\r\n",
        "        layers.Flatten(),\r\n",
        "        layers.Dropout(0.5),\r\n",
        "        layers.Dense(num_classes, activation=\"softmax\"),\r\n",
        "    ]\r\n",
        ")\r\n",
        "\r\n",
        "model.summary()"
      ],
      "execution_count": 31,
      "outputs": [
        {
          "output_type": "stream",
          "text": [
            "Model: \"sequential\"\n",
            "_________________________________________________________________\n",
            "Layer (type)                 Output Shape              Param #   \n",
            "=================================================================\n",
            "conv2d (Conv2D)              (None, 26, 26, 32)        320       \n",
            "_________________________________________________________________\n",
            "max_pooling2d (MaxPooling2D) (None, 13, 13, 32)        0         \n",
            "_________________________________________________________________\n",
            "conv2d_1 (Conv2D)            (None, 11, 11, 64)        18496     \n",
            "_________________________________________________________________\n",
            "max_pooling2d_1 (MaxPooling2 (None, 5, 5, 64)          0         \n",
            "_________________________________________________________________\n",
            "flatten (Flatten)            (None, 1600)              0         \n",
            "_________________________________________________________________\n",
            "dropout (Dropout)            (None, 1600)              0         \n",
            "_________________________________________________________________\n",
            "dense (Dense)                (None, 10)                16010     \n",
            "=================================================================\n",
            "Total params: 34,826\n",
            "Trainable params: 34,826\n",
            "Non-trainable params: 0\n",
            "_________________________________________________________________\n"
          ],
          "name": "stdout"
        }
      ]
    },
    {
      "cell_type": "code",
      "metadata": {
        "colab": {
          "base_uri": "https://localhost:8080/"
        },
        "id": "-MiB92-T0_l3",
        "outputId": "fc221f0f-f167-4dd7-d200-475f5025d4bb"
      },
      "source": [
        "# Training the model\r\n",
        "batch_size = 128 # The batch size defines the number of samples that will be propagated through the network.\r\n",
        "# For instance, let's say you have 1050 training samples and you want to set up a batch_size equal to 100. \r\n",
        "# The algorithm takes the first 100 samples (from 1st to 100th) from the training dataset and trains the network. \r\n",
        "# Next, it takes the second 100 samples (from 101st to 200th) and trains the network again. \r\n",
        "epochs = 15 # An epoch is a term used in machine learning and indicates the number of passes of the entire training dataset the machine learning algorithm has completed.\r\n",
        "# In this case, the model will check the entire dataset 15 times, and if it were to overfit, it would stop and not complete all epochs.\r\n",
        "# Overfitting occurs when your model learns too much from training data and isn't able to generalize the underlying information. Because of that, it can't make precise predictions and is only able to work with training data.\r\n",
        "\r\n",
        "# An epoch contains all samples while batch size contains limited samples:\r\n",
        "# - One Epoch is when an ENTIRE dataset is passed forward and backward through the neural network only ONCE.\r\n",
        "# - Batch size: Total number of training examples present in a single batch.\r\n",
        "\r\n",
        "model.compile(loss=\"categorical_crossentropy\", optimizer=\"adam\", metrics=[\"accuracy\"])\r\n",
        "\r\n",
        "model.fit(x_train, y_train, batch_size=batch_size, epochs=epochs, validation_split=0.1)"
      ],
      "execution_count": 32,
      "outputs": [
        {
          "output_type": "stream",
          "text": [
            "Epoch 1/15\n",
            "422/422 [==============================] - 36s 85ms/step - loss: 0.7511 - accuracy: 0.7709 - val_loss: 0.0813 - val_accuracy: 0.9783\n",
            "Epoch 2/15\n",
            "422/422 [==============================] - 36s 85ms/step - loss: 0.1177 - accuracy: 0.9641 - val_loss: 0.0541 - val_accuracy: 0.9862\n",
            "Epoch 3/15\n",
            "422/422 [==============================] - 36s 84ms/step - loss: 0.0842 - accuracy: 0.9750 - val_loss: 0.0472 - val_accuracy: 0.9872\n",
            "Epoch 4/15\n",
            "422/422 [==============================] - 35s 84ms/step - loss: 0.0685 - accuracy: 0.9786 - val_loss: 0.0401 - val_accuracy: 0.9892\n",
            "Epoch 5/15\n",
            "422/422 [==============================] - 37s 87ms/step - loss: 0.0599 - accuracy: 0.9816 - val_loss: 0.0376 - val_accuracy: 0.9898\n",
            "Epoch 6/15\n",
            "422/422 [==============================] - 37s 87ms/step - loss: 0.0547 - accuracy: 0.9826 - val_loss: 0.0367 - val_accuracy: 0.9910\n",
            "Epoch 7/15\n",
            "422/422 [==============================] - 36s 85ms/step - loss: 0.0490 - accuracy: 0.9845 - val_loss: 0.0333 - val_accuracy: 0.9895\n",
            "Epoch 8/15\n",
            "422/422 [==============================] - 36s 84ms/step - loss: 0.0447 - accuracy: 0.9861 - val_loss: 0.0339 - val_accuracy: 0.9895\n",
            "Epoch 9/15\n",
            "422/422 [==============================] - 36s 85ms/step - loss: 0.0407 - accuracy: 0.9872 - val_loss: 0.0315 - val_accuracy: 0.9910\n",
            "Epoch 10/15\n",
            "422/422 [==============================] - 36s 84ms/step - loss: 0.0403 - accuracy: 0.9869 - val_loss: 0.0289 - val_accuracy: 0.9913\n",
            "Epoch 11/15\n",
            "422/422 [==============================] - 36s 84ms/step - loss: 0.0378 - accuracy: 0.9881 - val_loss: 0.0305 - val_accuracy: 0.9915\n",
            "Epoch 12/15\n",
            "422/422 [==============================] - 38s 89ms/step - loss: 0.0361 - accuracy: 0.9880 - val_loss: 0.0280 - val_accuracy: 0.9917\n",
            "Epoch 13/15\n",
            "422/422 [==============================] - 36s 85ms/step - loss: 0.0319 - accuracy: 0.9901 - val_loss: 0.0306 - val_accuracy: 0.9923\n",
            "Epoch 14/15\n",
            "422/422 [==============================] - 36s 85ms/step - loss: 0.0302 - accuracy: 0.9905 - val_loss: 0.0285 - val_accuracy: 0.9920\n",
            "Epoch 15/15\n",
            "422/422 [==============================] - 36s 84ms/step - loss: 0.0296 - accuracy: 0.9902 - val_loss: 0.0295 - val_accuracy: 0.9917\n"
          ],
          "name": "stdout"
        },
        {
          "output_type": "execute_result",
          "data": {
            "text/plain": [
              "<tensorflow.python.keras.callbacks.History at 0x7fdcb6595390>"
            ]
          },
          "metadata": {
            "tags": []
          },
          "execution_count": 32
        }
      ]
    },
    {
      "cell_type": "markdown",
      "metadata": {
        "id": "G9GUN6eb6A8C"
      },
      "source": [
        "As the number of epochs increases, more number of times the weight are changed in the neural network and the curve goes from underfitting to optimal to overfitting curve."
      ]
    },
    {
      "cell_type": "code",
      "metadata": {
        "colab": {
          "base_uri": "https://localhost:8080/"
        },
        "id": "QWv_8sbl1JnX",
        "outputId": "7fe290d2-3745-4676-d2f2-2a28aa4fed8f"
      },
      "source": [
        "# Evaluating the training model\r\n",
        "score = model.evaluate(x_test, y_test, verbose=0)\r\n",
        "print(\"Test loss:\", score[0])\r\n",
        "print(\"Test accuracy:\", score[1])"
      ],
      "execution_count": 33,
      "outputs": [
        {
          "output_type": "stream",
          "text": [
            "Test loss: 0.023777900263667107\n",
            "Test accuracy: 0.9919000267982483\n"
          ],
          "name": "stdout"
        }
      ]
    },
    {
      "cell_type": "code",
      "metadata": {
        "colab": {
          "base_uri": "https://localhost:8080/",
          "height": 674
        },
        "id": "5YHDF5iu69ni",
        "outputId": "0ca7e273-bac7-4ed0-eb24-c2fe3d81a1df"
      },
      "source": [
        "# Testing the model\r\n",
        "\r\n",
        "import matplotlib.pyplot as plt\r\n",
        "\r\n",
        "\r\n",
        "def predict_this_model(quantity):\r\n",
        "    # Predict on the first images\r\n",
        "    predictions = model.predict(x_test[:quantity])\r\n",
        "\r\n",
        "    # Print our model's predictions.\r\n",
        "    print(np.argmax(predictions, axis=1)) \r\n",
        "\r\n",
        "    # preview the images \r\n",
        "    plt.figure(figsize=(10,10))\r\n",
        "    x, y = 10, 4\r\n",
        "    for i in range(quantity):  \r\n",
        "        plt.subplot(y, x, i+1)\r\n",
        "        plt.imshow(x_test[i].reshape((28,28)),interpolation='nearest')\r\n",
        "        plt.axis('off')\r\n",
        "        plt.subplots_adjust(wspace=0.1, hspace=0.1)\r\n",
        "        plt.show()\r\n",
        "        print(y_test[i]) \r\n",
        "\r\n",
        "\r\n",
        "predict_this_model(10)"
      ],
      "execution_count": 72,
      "outputs": [
        {
          "output_type": "stream",
          "text": [
            "[7 2 1 0 4 1 4 9 5 9]\n"
          ],
          "name": "stdout"
        },
        {
          "output_type": "display_data",
          "data": {
            "image/png": "[encoded data removed]",
            "text/plain": [
              "<Figure size 720x720 with 1 Axes>"
            ]
          },
          "metadata": {
            "tags": [],
            "needs_background": "light"
          }
        },
        {
          "output_type": "stream",
          "text": [
            "[0. 0. 0. 0. 0. 0. 0. 1. 0. 0.]\n"
          ],
          "name": "stdout"
        },
        {
          "output_type": "display_data",
          "data": {
            "image/png": "[encoded data removed]",
            "text/plain": [
              "<Figure size 432x288 with 1 Axes>"
            ]
          },
          "metadata": {
            "tags": [],
            "needs_background": "light"
          }
        },
        {
          "output_type": "stream",
          "text": [
            "[0. 0. 1. 0. 0. 0. 0. 0. 0. 0.]\n"
          ],
          "name": "stdout"
        },
        {
          "output_type": "display_data",
          "data": {
            "image/png": "[encoded data removed]",
            "text/plain": [
              "<Figure size 432x288 with 1 Axes>"
            ]
          },
          "metadata": {
            "tags": [],
            "needs_background": "light"
          }
        },
        {
          "output_type": "stream",
          "text": [
            "[0. 1. 0. 0. 0. 0. 0. 0. 0. 0.]\n"
          ],
          "name": "stdout"
        },
        {
          "output_type": "display_data",
          "data": {
            "image/png": "[encoded data removed]",
            "text/plain": [
              "<Figure size 432x288 with 1 Axes>"
            ]
          },
          "metadata": {
            "tags": [],
            "needs_background": "light"
          }
        },
        {
          "output_type": "stream",
          "text": [
            "[1. 0. 0. 0. 0. 0. 0. 0. 0. 0.]\n"
          ],
          "name": "stdout"
        },
        {
          "output_type": "display_data",
          "data": {
            "image/png": "[encoded data removed]",
            "text/plain": [
              "<Figure size 432x288 with 1 Axes>"
            ]
          },
          "metadata": {
            "tags": [],
            "needs_background": "light"
          }
        },
        {
          "output_type": "stream",
          "text": [
            "[0. 0. 0. 0. 1. 0. 0. 0. 0. 0.]\n"
          ],
          "name": "stdout"
        },
        {
          "output_type": "display_data",
          "data": {
            "image/png": "[encoded data removed]",
            "text/plain": [
              "<Figure size 432x288 with 1 Axes>"
            ]
          },
          "metadata": {
            "tags": [],
            "needs_background": "light"
          }
        },
        {
          "output_type": "stream",
          "text": [
            "[0. 1. 0. 0. 0. 0. 0. 0. 0. 0.]\n"
          ],
          "name": "stdout"
        },
        {
          "output_type": "display_data",
          "data": {
            "image/png": "[encoded data removed]",
            "text/plain": [
              "<Figure size 432x288 with 1 Axes>"
            ]
          },
          "metadata": {
            "tags": [],
            "needs_background": "light"
          }
        },
        {
          "output_type": "stream",
          "text": [
            "[0. 0. 0. 0. 1. 0. 0. 0. 0. 0.]\n"
          ],
          "name": "stdout"
        },
        {
          "output_type": "display_data",
          "data": {
            "image/png": "[encoded data removed]",
            "text/plain": [
              "<Figure size 432x288 with 1 Axes>"
            ]
          },
          "metadata": {
            "tags": [],
            "needs_background": "light"
          }
        },
        {
          "output_type": "stream",
          "text": [
            "[0. 0. 0. 0. 0. 0. 0. 0. 0. 1.]\n"
          ],
          "name": "stdout"
        },
        {
          "output_type": "display_data",
          "data": {
            "image/png": "[encoded data removed]",
            "text/plain": [
              "<Figure size 432x288 with 1 Axes>"
            ]
          },
          "metadata": {
            "tags": [],
            "needs_background": "light"
          }
        },
        {
          "output_type": "stream",
          "text": [
            "[0. 0. 0. 0. 0. 1. 0. 0. 0. 0.]\n"
          ],
          "name": "stdout"
        },
        {
          "output_type": "display_data",
          "data": {
            "image/png": "[encoded data removed]",
            "text/plain": [
              "<Figure size 432x288 with 1 Axes>"
            ]
          },
          "metadata": {
            "tags": [],
            "needs_background": "light"
          }
        },
        {
          "output_type": "stream",
          "text": [
            "[0. 0. 0. 0. 0. 0. 0. 0. 0. 1.]\n"
          ],
          "name": "stdout"
        }
      ]
    },
    {
      "cell_type": "markdown",
      "metadata": {
        "id": "hIy1PG2cDBu-"
      },
      "source": [
        "Each array has 10 positions, resembling a true or false array. Considering arrays start from index 0, it's the same as: 0, 1, 2, 3, 4, 5, 6, 7, 8, 9.\r\n",
        "<br></br>\r\n",
        "Therefore, we have to compare the handwritten digit to the index where 1 belongs in each case. In all 10 examples above, the model guessed correctly all predictions.\r\n"
      ]
    }
  ]
}